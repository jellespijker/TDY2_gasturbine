{
 "cells": [
  {
   "cell_type": "markdown",
   "metadata": {
    "collapsed": true
   },
   "source": [
    "# Alternatieve Toets TDY2\n",
    "Calculationsheet for a gasturbine  \n",
    "\n",
    "_note_: The cell below is needed to import libraries and set global settings."
   ]
  },
  {
   "cell_type": "code",
   "execution_count": 1,
   "metadata": {},
   "outputs": [],
   "source": [
    "%matplotlib inline\n",
    "%precision 3\n",
    "from IPython.display import Latex\n",
    "from math import nan\n",
    "import matplotlib.pyplot as plt\n",
    "from GasTurbine import *"
   ]
  },
  {
   "cell_type": "markdown",
   "metadata": {},
   "source": [
    "# Decription of the system\n",
    "## States\n",
    "The following states are identified:  \n",
    "0. Air at atmospheric conditions $P_0 = P_{atm}$, $T_0 = T_{atm}$ and $v_0 = v_{atm}$\n",
    "1. Compressed air $P_1 >> P_0$, $T_1 > T_0$ and $v_1 << v_0$\n",
    "2. Heated air $P_2 = P_1$, $T_2 >> T_1$ and $v_2 > v_1$\n",
    "3. Heated air at atmospheric pressure $P_3 = P_0 = P_{atm}$, $T_3 < T_2$\n",
    "\n",
    "## Transitions\n",
    "The system transitions are identified as follows:  \n",
    "0 -> 1 **Isentropic compression** were air is sucked into a compressor.  \n",
    "1 -> 2 **Isobaric heating** where air is heated in a combustion chamber.  \n",
    "2 -> 3 **Isentropic expansion** where air is expanded till atmospheric pressure.  \n",
    "3 -> 0 **Isobaric cooling** A fictive step where the air is cooled to atmorspheric conditions.  \n",
    "\n",
    "# Know values"
   ]
  },
  {
   "cell_type": "code",
   "execution_count": 2,
   "metadata": {},
   "outputs": [],
   "source": [
    "P_atm = 1.013 * u.bar\n",
    "T_atm = (15. * u.degC).to(u.K)\n",
    "c = Cycle()\n",
    "c.c_p = 1005. * u.J / (u.kg * u.K)\n",
    "c.c_v = 716. * u.J / (u.kg * u.K)\n",
    "c.Q_in = 2000 * u.kW"
   ]
  },
  {
   "cell_type": "code",
   "execution_count": 3,
   "metadata": {},
   "outputs": [],
   "source": [
    "s = States(4)\n",
    "s[0].P = P_atm\n",
    "s[0].T = T_atm\n",
    "s[0].A = 1. * u.m ** 2\n",
    "s[0].V_flux = 6000. * u.m ** 3 / u.hr\n",
    "s[1].P = 10. * u.bar\n",
    "s[1].A = 0.5 * u.m ** 2\n",
    "s[2].A = 0.1 * u.m ** 2\n",
    "s[2].P = s[1].P\n",
    "s[3].A = 1. * u.m ** 2\n",
    "s[3].P = s[0].P"
   ]
  },
  {
   "cell_type": "code",
   "execution_count": 4,
   "metadata": {},
   "outputs": [],
   "source": [
    "c.t = s\n",
    "c.t[0].processtype = ProcessType.ISENTROPIC\n",
    "c.t[1].processtype = ProcessType.ISOBARIC\n",
    "c.t[2].processtype = ProcessType.ISENTROPIC\n",
    "c.t[3].processtype = ProcessType.ISOBARIC"
   ]
  },
  {
   "cell_type": "markdown",
   "metadata": {},
   "source": [
    "# Calculate of system constants\n",
    "\\begin{equation}\n",
    "    \\frac{P_0 \\dot{V_0}}{T_0} = \\dot{m} R \\rightarrow \\dot{m} = \\frac{P_0 \\dot{V_0}}{R T_0}\n",
    "\\end{equation}\n",
    "\\begin{equation}\n",
    "    R = c_p - c_v\n",
    "\\end{equation}\n",
    "\\begin{equation}\n",
    "    k = \\frac{c_p}{c_p}\n",
    "\\end{equation}"
   ]
  },
  {
   "cell_type": "code",
   "execution_count": 5,
   "metadata": {},
   "outputs": [
    {
     "data": {
      "text/latex": [
       "$ 289.0000\\ \\frac{\\mathrm{J}}{\\left(\\mathrm{K} \\cdot \\mathrm{kg}\\right)} $"
      ],
      "text/plain": [
       "<IPython.core.display.Latex object>"
      ]
     },
     "execution_count": 5,
     "metadata": {},
     "output_type": "execute_result"
    }
   ],
   "source": [
    "latex(c.R)"
   ]
  },
  {
   "cell_type": "code",
   "execution_count": 6,
   "metadata": {},
   "outputs": [
    {
     "data": {
      "text/latex": [
       "$ 1.4036\\ $"
      ],
      "text/plain": [
       "<IPython.core.display.Latex object>"
      ]
     },
     "execution_count": 6,
     "metadata": {},
     "output_type": "execute_result"
    }
   ],
   "source": [
    "latex(c.k)"
   ]
  },
  {
   "cell_type": "code",
   "execution_count": 7,
   "metadata": {},
   "outputs": [
    {
     "data": {
      "text/latex": [
       "$ 2.0274\\ \\frac{\\mathrm{kg}}{\\mathrm{s}} $"
      ],
      "text/plain": [
       "<IPython.core.display.Latex object>"
      ]
     },
     "execution_count": 7,
     "metadata": {},
     "output_type": "execute_result"
    }
   ],
   "source": [
    "def mass_flux(P, V_flux, R, T):             \n",
    "    return (P * V_flux / (R * T)).to('kg/s')\n",
    "\n",
    "c.m_flux = mass_flux(s[0].P, s[0].V_flux, c.R, s[0].T)\n",
    "latex(c.m_flux)"
   ]
  },
  {
   "cell_type": "markdown",
   "metadata": {},
   "source": [
    "# Calculate Transitions and States\n",
    "## State 0\n",
    "\\begin{equation}\n",
    "    \\rho_0 = \\frac{P_0}{T_0 R}\n",
    "    \\begin{cases}\n",
    "        \\frac{P_0 v_0}{T_0} = \\dot{m} R \\\\\n",
    "        \\rho_0 = \\frac{\\dot{m}}{v_0}\n",
    "    \\end{cases}\n",
    "\\end{equation}\n",
    "\\begin{equation}\n",
    "    v_0 = \\frac{\\dot{V_0}}{\\dot{m}}\n",
    "\\end{equation}\n",
    "\\begin{equation}\n",
    "    c_0 A_0 \\rho_0 = \\dot{m} \\rightarrow c_0 = \\frac{\\dot{m}}{\\rho_0 A_0}\n",
    "\\end{equation}\n"
   ]
  },
  {
   "cell_type": "code",
   "execution_count": 8,
   "metadata": {},
   "outputs": [],
   "source": [
    "def density(P, R, T):   \n",
    "    return P / (R * T)\n",
    "\n",
    "\n",
    "def specific_volume(m_flux, V_flux):\n",
    "    return V_flux / m_flux\n",
    "\n",
    "\n",
    "def speed(m_flux, rho, A):\n",
    "    return m_flux / (rho * A)"
   ]
  },
  {
   "cell_type": "code",
   "execution_count": 9,
   "metadata": {},
   "outputs": [
    {
     "data": {
      "text/latex": [
       "\\begin{equation}\n",
       "    State_{0} = \\left( \\begin{array}{ll}\n",
       "        P_{0}       & 101300.0000\\ \\mathrm{Pa}                   \\\\\n",
       "        T_{0}       & 288.1500\\ \\mathrm{K}                       \\\\\n",
       "        v_{0}       & 0.8221\\ \\frac{\\mathrm{m}^{3}}{\\mathrm{kg}} \\\\\n",
       "        \\dot{V}_{0} & 1.6667\\ \\frac{\\mathrm{m}^{3}}{\\mathrm{s}}  \\\\\n",
       "        \\rho_{0}    & 1.2164\\ \\frac{\\mathrm{kg}}{\\mathrm{m}^{3}} \\\\\n",
       "        c_{0}       & 1.6667\\ \\frac{\\mathrm{m}}{\\mathrm{s}}      \\\\\n",
       "    \\end{array} \\right)\n",
       "\\end{equation}\n",
       "\n"
      ],
      "text/plain": [
       "<IPython.core.display.Latex object>"
      ]
     },
     "execution_count": 9,
     "metadata": {},
     "output_type": "execute_result"
    }
   ],
   "source": [
    "s[0].rho = density(s[0].P, c.R, s[0].T)\n",
    "s[0].v = specific_volume(c.m_flux, s[0].V_flux)\n",
    "s[0].c = speed(c.m_flux, s[0].rho, s[0].A)\n",
    "s[0].print()"
   ]
  },
  {
   "cell_type": "markdown",
   "metadata": {},
   "source": [
    "## State 1\n",
    "Where $\\rho_1$, $c_1$ and $v_1$ are determined with the previous given formula.\n",
    "\\begin{equation}\n",
    "    \\frac{T_0^k}{P_0^{k-1}} = \\frac{T_1^k}{P_1^{k-1}} \\rightarrow T_1 = \\left(\\left(\\frac{P_1}{P_0}\\right)^{k-1}T_0^k\\right)^{\\frac{1}{k}}\n",
    "\\end{equation}\n",
    "\\begin{equation}\n",
    "    \\dot{V}_1 = c_1 A_1\n",
    "\\end{equation}"
   ]
  },
  {
   "cell_type": "code",
   "execution_count": 10,
   "metadata": {},
   "outputs": [],
   "source": [
    "@u.wraps(ret='K', args=('K', 'Pa', 'Pa', ''))\n",
    "def isentropische_dT(T_s, P_s, P_e, k):\n",
    "    return ((P_e / P_s) ** (k - 1) * T_s ** k) ** (1 / k)\n",
    "\n",
    "\n",
    "def V_flux(c, A):\n",
    "    return c * A"
   ]
  },
  {
   "cell_type": "code",
   "execution_count": 11,
   "metadata": {},
   "outputs": [
    {
     "data": {
      "text/latex": [
       "\\begin{equation}\n",
       "    State_{1} = \\left( \\begin{array}{ll}\n",
       "        P_{1}       & 1000000.0000\\ \\mathrm{Pa}                  \\\\\n",
       "        T_{1}       & 556.6315\\ \\mathrm{K}                       \\\\\n",
       "        v_{1}       & 0.1609\\ \\frac{\\mathrm{m}^{3}}{\\mathrm{kg}} \\\\\n",
       "        \\dot{V}_{1} & 0.3261\\ \\frac{\\mathrm{m}^{3}}{\\mathrm{s}}  \\\\\n",
       "        \\rho_{1}    & 6.2163\\ \\frac{\\mathrm{kg}}{\\mathrm{m}^{3}} \\\\\n",
       "        c_{1}       & 0.6523\\ \\frac{\\mathrm{m}}{\\mathrm{s}}      \\\\\n",
       "    \\end{array} \\right)\n",
       "\\end{equation}\n",
       "\n"
      ],
      "text/plain": [
       "<IPython.core.display.Latex object>"
      ]
     },
     "execution_count": 11,
     "metadata": {},
     "output_type": "execute_result"
    }
   ],
   "source": [
    "s[1].T = isentropische_dT(s[0].T, s[0].P, s[1].P, c.k)\n",
    "s[1].rho = density(s[1].P, c.R, s[1].T)\n",
    "s[1].c = speed(c.m_flux, s[1].rho, s[1].A)\n",
    "s[1].V_flux = V_flux(s[1].c, s[1].A)\n",
    "s[1].v = specific_volume(c.m_flux, s[1].V_flux)\n",
    "s[1].print()"
   ]
  },
  {
   "cell_type": "markdown",
   "metadata": {},
   "source": [
    "## Transition 0 to 1\n",
    "The transition from **state 0** to **state 1** is an isentropic process where work needs to be put into the system and no heat is transfered.\n",
    "\\begin{equation}\n",
    "    w_{0-1} = \\frac{-1}{k-1}\\left(P_1 v_1 - P_0 v_0\\right)\n",
    "\\end{equation}\n",
    "\\begin{equation}\n",
    "    q_{0-1} = 0.\n",
    "\\end{equation}\n",
    "\\begin{equation}\n",
    "    \\Delta u = q_{0-1} - w_{0-1}\n",
    "\\end{equation}\n",
    "\\begin{equation}\n",
    "    w_{t,0-1} = q_{0-1} - \\Delta h - \\Delta e_{kin} - \\Delta e_{pot}\n",
    "\\end{equation}\n",
    "\\begin{equation}\n",
    "    \\Delta e_{kin} = \\frac{1}{2}(c_1^2 - c_0^2)\n",
    "\\end{equation}\n",
    "\\begin{equation}\n",
    "    \\Delta h_{0-1} = q_{0-1} - w_{t,0-1} - \\Delta e_{kin}\n",
    "\\end{equation}"
   ]
  },
  {
   "cell_type": "code",
   "execution_count": 12,
   "metadata": {},
   "outputs": [],
   "source": [
    "def isentropisch_work(P_s, V_s, P_e, V_e, k):\n",
    "    return -1. / (k - 1) * (P_e * V_e - P_s * V_s)\n",
    "\n",
    "\n",
    "def delta_u(q, w):\n",
    "    return q - w\n",
    "\n",
    "\n",
    "def delta_e_kin(c_s, c_e):\n",
    "    return 0.5 * (c_e ** 2 - c_s ** 2)\n",
    "\n",
    "\n",
    "def delta_h(T_s, T_e, c_p):\n",
    "    return c_p * (T_e - T_s)\n",
    "\n",
    "\n",
    "def technical_work(q, dh, de_kin, de_pot):\n",
    "    return q - dh - de_kin - de_pot"
   ]
  },
  {
   "cell_type": "code",
   "execution_count": 13,
   "metadata": {},
   "outputs": [
    {
     "data": {
      "text/latex": [
       "\\begin{equation}\n",
       "    Trans_{0->1} = \\left( \\begin{array}{ll}\n",
       "        q_{0->1}            & 0.0000\\ \\frac{\\mathrm{kJ}}{\\mathrm{kg}}    \\\\\n",
       "        w_{0->1}            & -192.2327\\ \\frac{\\mathrm{kJ}}{\\mathrm{kg}} \\\\\n",
       "        w_{t,0->1}          & -269.8227\\ \\frac{\\mathrm{kJ}}{\\mathrm{kg}} \\\\\n",
       "        \\Delta u_{0->1}     & 192.2327\\ \\frac{\\mathrm{kJ}}{\\mathrm{kg}}  \\\\\n",
       "        \\Delta e_{0->1,kin} & -0.0012\\ \\frac{\\mathrm{kJ}}{\\mathrm{kg}}   \\\\\n",
       "        \\Delta e_{0->1,pot} & 0.0000\\ \\frac{\\mathrm{kJ}}{\\mathrm{kg}}    \\\\\n",
       "        \\Delta h_{0->1}     & 269.8239\\ \\frac{\\mathrm{kJ}}{\\mathrm{kg}}  \\\\\n",
       "    \\end{array} \\right)\n",
       "\\end{equation}\n",
       "\n"
      ],
      "text/plain": [
       "<IPython.core.display.Latex object>"
      ]
     },
     "execution_count": 13,
     "metadata": {},
     "output_type": "execute_result"
    }
   ],
   "source": [
    "c.t[0].q = 0. * u.kJ / u.kg\n",
    "c.t[0].w = isentropisch_work(s[0].P, s[0].v, s[1].P, s[1].v, c.k)\n",
    "c.t[0].du = delta_u(c.t[0].q, c.t[0].w)\n",
    "c.t[0].de_kin = delta_e_kin(s[0].c, s[1].c)\n",
    "c.t[0].dh = delta_h(s[0].T, s[1].T, c.c_p)\n",
    "c.t[0].w_t = technical_work(c.t[0].q, c.t[0].dh, c.t[0].de_kin, c.t[0].de_pot)\n",
    "c.t[0].print()"
   ]
  },
  {
   "cell_type": "markdown",
   "metadata": {},
   "source": [
    "## Transition 1 to 2\n",
    "State 2 can best be calculated by first determining the heat and work transfer in transition 1 -> 2. Since the amount of heating energy $Q_{in}$ is known. The transition from **state 1** to **state 2** is an isobaric heating process. Where heat is put into the system which is kept at an constant pressure.\n",
    "\\begin{equation}\n",
    "    q_{1-2} = \\frac{Q_{in}}{\\dot{m}}\n",
    "\\end{equation}\n",
    "\\begin{equation}\n",
    "    w_{1-2} = q_{1-2} - \\frac{q_{1-2}}{k}\n",
    "    \\begin{cases}\n",
    "        q_{1-2} = \\frac{k}{k-1} P(v_2 - v_1) \\\\\n",
    "        w_{1-2} = P(v_2 - v_1)\n",
    "    \\end{cases}\n",
    "\\end{equation}\n",
    "\n"
   ]
  },
  {
   "cell_type": "code",
   "execution_count": 14,
   "metadata": {},
   "outputs": [],
   "source": [
    "def isobaar_heat_Qm(Q_in, m_flux):\n",
    "    return Q_in / m_flux\n",
    "\n",
    "\n",
    "def isobaar_work_kq(k, q):\n",
    "    return q - (q / k)"
   ]
  },
  {
   "cell_type": "code",
   "execution_count": 15,
   "metadata": {},
   "outputs": [],
   "source": [
    "c.t[1].q = isobaar_heat_Qm(c.Q_in, c.m_flux)\n",
    "c.t[1].w = isobaar_work_kq(k=c.k, q=c.t[1].q)\n",
    "c.t[1].du = delta_u(c.t[1].q, c.t[1].w)"
   ]
  },
  {
   "cell_type": "markdown",
   "metadata": {},
   "source": [
    "## State 2\n",
    "From here **state 2** can be calculated, where $\\rho_2$, $v_2$, $c_2$ and $\\dot{V}_2$ are calculated using earlier provided formulas.\n",
    "\\begin{equation}\n",
    "    q_{1-2} = c_p(T_2-T_1) \\rightarrow T_2 = \\frac{q_{1-2}}{c_p} + T_1\n",
    "\\end{equation}"
   ]
  },
  {
   "cell_type": "code",
   "execution_count": 16,
   "metadata": {},
   "outputs": [],
   "source": [
    "def isobaar_dT(q, c_p, T_s):\n",
    "    return q / c_p + T_s"
   ]
  },
  {
   "cell_type": "code",
   "execution_count": 17,
   "metadata": {},
   "outputs": [
    {
     "data": {
      "text/latex": [
       "\\begin{equation}\n",
       "    State_{2} = \\left( \\begin{array}{ll}\n",
       "        P_{2}       & 1000000.0000\\ \\mathrm{Pa}                  \\\\\n",
       "        T_{2}       & 1538.2036\\ \\mathrm{K}                      \\\\\n",
       "        v_{2}       & 0.4445\\ \\frac{\\mathrm{m}^{3}}{\\mathrm{kg}} \\\\\n",
       "        \\dot{V}_{2} & 0.9013\\ \\frac{\\mathrm{m}^{3}}{\\mathrm{s}}  \\\\\n",
       "        \\rho_{2}    & 2.2495\\ \\frac{\\mathrm{kg}}{\\mathrm{m}^{3}} \\\\\n",
       "        c_{2}       & 9.0127\\ \\frac{\\mathrm{m}}{\\mathrm{s}}      \\\\\n",
       "    \\end{array} \\right)\n",
       "\\end{equation}\n",
       "\n"
      ],
      "text/plain": [
       "<IPython.core.display.Latex object>"
      ]
     },
     "execution_count": 17,
     "metadata": {},
     "output_type": "execute_result"
    }
   ],
   "source": [
    "s[2].T = isobaar_dT(c.t[1].q, c.c_p, s[1].T)\n",
    "s[2].rho = density(s[2].P, c.R, s[2].T)\n",
    "s[2].c = speed(c.m_flux, s[2].rho, s[2].A)\n",
    "s[2].V_flux = V_flux(s[2].c, s[2].A)\n",
    "s[2].v = specific_volume(c.m_flux, s[2].V_flux)\n",
    "s[2].print()"
   ]
  },
  {
   "cell_type": "markdown",
   "metadata": {},
   "source": [
    "## Transition 1 to 2 (continued)\n",
    "From here the transition can be calculated further, using earlier given formulas."
   ]
  },
  {
   "cell_type": "code",
   "execution_count": 18,
   "metadata": {},
   "outputs": [
    {
     "data": {
      "text/latex": [
       "\\begin{equation}\n",
       "    Trans_{1->2} = \\left( \\begin{array}{ll}\n",
       "        q_{1->2}            & 986.4800\\ \\frac{\\mathrm{kJ}}{\\mathrm{kg}}  \\\\\n",
       "        w_{1->2}            & 283.6743\\ \\frac{\\mathrm{kJ}}{\\mathrm{kg}}  \\\\\n",
       "        w_{t,1->2}          & -0.0404\\ \\frac{\\mathrm{kJ}}{\\mathrm{kg}}   \\\\\n",
       "        \\Delta u_{1->2}     & 702.8056\\ \\frac{\\mathrm{kJ}}{\\mathrm{kg}}  \\\\\n",
       "        \\Delta e_{1->2,kin} & 0.0404\\ \\frac{\\mathrm{kJ}}{\\mathrm{kg}}    \\\\\n",
       "        \\Delta e_{1->2,pot} & 0.0000\\ \\frac{\\mathrm{kJ}}{\\mathrm{kg}}    \\\\\n",
       "        \\Delta h_{1->2}     & 986.4800\\ \\frac{\\mathrm{kJ}}{\\mathrm{kg}}  \\\\\n",
       "    \\end{array} \\right)\n",
       "\\end{equation}\n",
       "\n"
      ],
      "text/plain": [
       "<IPython.core.display.Latex object>"
      ]
     },
     "execution_count": 18,
     "metadata": {},
     "output_type": "execute_result"
    }
   ],
   "source": [
    "c.t[1].de_kin = delta_e_kin(s[1].c, s[2].c)\n",
    "c.t[1].dh = delta_h(s[1].T, s[2].T, c.c_p)\n",
    "c.t[1].w_t = technical_work(c.t[1].q, c.t[1].dh, c.t[1].de_kin, c.t[1].de_pot)\n",
    "c.t[1].print()"
   ]
  },
  {
   "cell_type": "markdown",
   "metadata": {},
   "source": [
    "## State 3\n"
   ]
  },
  {
   "cell_type": "code",
   "execution_count": 19,
   "metadata": {},
   "outputs": [
    {
     "data": {
      "text/latex": [
       "\\begin{equation}\n",
       "    State_{3} = \\left( \\begin{array}{ll}\n",
       "        P_{3}       & 101300.0000\\ \\mathrm{Pa}                   \\\\\n",
       "        T_{3}       & 796.2779\\ \\mathrm{K}                       \\\\\n",
       "        v_{3}       & 2.2717\\ \\frac{\\mathrm{m}^{3}}{\\mathrm{kg}} \\\\\n",
       "        \\dot{V}_{3} & 4.6057\\ \\frac{\\mathrm{m}^{3}}{\\mathrm{s}}  \\\\\n",
       "        \\rho_{3}    & 0.4402\\ \\frac{\\mathrm{kg}}{\\mathrm{m}^{3}} \\\\\n",
       "        c_{3}       & 4.6057\\ \\frac{\\mathrm{m}}{\\mathrm{s}}      \\\\\n",
       "    \\end{array} \\right)\n",
       "\\end{equation}\n",
       "\n"
      ],
      "text/plain": [
       "<IPython.core.display.Latex object>"
      ]
     },
     "execution_count": 19,
     "metadata": {},
     "output_type": "execute_result"
    }
   ],
   "source": [
    "s[3].T = isentropische_dT(s[2].T, s[2].P, s[3].P, c.k)\n",
    "s[3].rho = density(s[3].P, c.R, s[3].T)\n",
    "s[3].c = speed(c.m_flux, s[3].rho, s[3].A)\n",
    "s[3].V_flux = V_flux(s[3].c, s[3].A)\n",
    "s[3].v = specific_volume(c.m_flux, s[3].V_flux)\n",
    "s[3].print()"
   ]
  },
  {
   "cell_type": "markdown",
   "metadata": {},
   "source": [
    "## Transition 2 to 3\n"
   ]
  },
  {
   "cell_type": "code",
   "execution_count": 20,
   "metadata": {},
   "outputs": [
    {
     "data": {
      "text/latex": [
       "\\begin{equation}\n",
       "    Trans_{2->3} = \\left( \\begin{array}{ll}\n",
       "        q_{2->3}            & 0.0000\\ \\frac{\\mathrm{kJ}}{\\mathrm{kg}}    \\\\\n",
       "        w_{2->3}            & 531.2187\\ \\frac{\\mathrm{kJ}}{\\mathrm{kg}}  \\\\\n",
       "        w_{t,2->3}          & 745.6653\\ \\frac{\\mathrm{kJ}}{\\mathrm{kg}}  \\\\\n",
       "        \\Delta u_{2->3}     & -531.2187\\ \\frac{\\mathrm{kJ}}{\\mathrm{kg}} \\\\\n",
       "        \\Delta e_{2->3,kin} & -0.0300\\ \\frac{\\mathrm{kJ}}{\\mathrm{kg}}   \\\\\n",
       "        \\Delta e_{2->3,pot} & 0.0000\\ \\frac{\\mathrm{kJ}}{\\mathrm{kg}}    \\\\\n",
       "        \\Delta h_{2->3}     & -745.6352\\ \\frac{\\mathrm{kJ}}{\\mathrm{kg}} \\\\\n",
       "    \\end{array} \\right)\n",
       "\\end{equation}\n",
       "\n"
      ],
      "text/plain": [
       "<IPython.core.display.Latex object>"
      ]
     },
     "execution_count": 20,
     "metadata": {},
     "output_type": "execute_result"
    }
   ],
   "source": [
    "c.t[2].q = 0. * u.kJ / u.kg\n",
    "c.t[2].w = isentropisch_work(s[2].P, s[2].v, s[3].P, s[3].v, c.k)\n",
    "c.t[2].du = delta_u(c.t[2].q, c.t[2].w)\n",
    "c.t[2].de_kin = delta_e_kin(s[2].c, s[3].c)\n",
    "c.t[2].dh = delta_h(s[2].T, s[3].T, c.c_p)\n",
    "c.t[2].w_t = technical_work(c.t[2].q, c.t[2].dh, c.t[2].de_kin, c.t[2].de_pot)\n",
    "c.t[2].print()"
   ]
  },
  {
   "cell_type": "markdown",
   "metadata": {},
   "source": [
    "## Transition 3 to 0"
   ]
  },
  {
   "cell_type": "code",
   "execution_count": 21,
   "metadata": {},
   "outputs": [
    {
     "data": {
      "text/latex": [
       "\\begin{equation}\n",
       "    Trans_{3->0} = \\left( \\begin{array}{ll}\n",
       "        q_{3->0}            & -510.6686\\ \\frac{\\mathrm{kJ}}{\\mathrm{kg}}  \\\\\n",
       "        w_{3->0}            & -146.8490\\ \\frac{\\mathrm{kJ}}{\\mathrm{kg}}  \\\\\n",
       "        w_{t,3->0}          & 0.0092\\ \\frac{\\mathrm{kJ}}{\\mathrm{kg}}     \\\\\n",
       "        \\Delta u_{3->0}     & -363.8196\\ \\frac{\\mathrm{kJ}}{\\mathrm{kg}}  \\\\\n",
       "        \\Delta e_{3->0,kin} & -0.0092\\ \\frac{\\mathrm{kJ}}{\\mathrm{kg}}    \\\\\n",
       "        \\Delta e_{3->0,pot} & 0.0000\\ \\frac{\\mathrm{kJ}}{\\mathrm{kg}}     \\\\\n",
       "        \\Delta h_{3->0}     & -510.6686\\ \\frac{\\mathrm{kJ}}{\\mathrm{kg}}  \\\\\n",
       "    \\end{array} \\right)\n",
       "\\end{equation}\n",
       "\n"
      ],
      "text/plain": [
       "<IPython.core.display.Latex object>"
      ]
     },
     "execution_count": 21,
     "metadata": {},
     "output_type": "execute_result"
    }
   ],
   "source": [
    "c.t[3].q = isobaar_heat(c_p=c.c_p, T_s=s[3].T, T_e=s[0].T)\n",
    "c.t[3].w = isobaar_work(R=c.R, T_s=s[3].T, T_e=s[0].T)\n",
    "c.t[3].du = delta_u(c.t[3].q, c.t[3].w)\n",
    "c.t[3].de_kin = delta_e_kin(s[3].c, s[0].c)\n",
    "c.t[3].dh = delta_h(s[3].T, s[0].T, c.c_p)\n",
    "c.t[3].w_t = technical_work(c.t[3].q, c.t[3].dh, c.t[3].de_kin, c.t[3].de_pot)\n",
    "c.t[3].print()"
   ]
  },
  {
   "cell_type": "code",
   "execution_count": 22,
   "metadata": {},
   "outputs": [
    {
     "data": {
      "image/png": "[encoded data removed]",
      "text/plain": [
       "<matplotlib.figure.Figure at 0x8496a20>"
      ]
     },
     "metadata": {},
     "output_type": "display_data"
    }
   ],
   "source": [
    "c.plot_Pv()"
   ]
  },
  {
   "cell_type": "code",
   "execution_count": 23,
   "metadata": {},
   "outputs": [
    {
     "data": {
      "text/latex": [
       "\\begin{array}{l | l | l | l} \\hline\n",
       "    \\verb|     | & \\verb|      q       | & \\verb|   Delta u    | & \\verb|      w       | \\\\ \\hline\n",
       "    \\hline\n",
       "    \\verb|0-1  | & \\verb|0.000 kJ/kg   | & \\verb|192.233 kJ/kg | & \\verb|-192.233 kJ/kg| \\\\ \\hline\n",
       "    \\verb|1-2  | & \\verb|986.480 kJ/kg | & \\verb|702.806 kJ/kg | & \\verb|283.674 kJ/kg | \\\\ \\hline\n",
       "    \\verb|2-3  | & \\verb|0.000 kJ/kg   | & \\verb|-531.219 kJ/kg| & \\verb|531.219 kJ/kg | \\\\ \\hline\n",
       "    \\verb|3-0  | & \\verb|-510.669 kJ/kg| & \\verb|-363.820 kJ/kg| & \\verb|-146.849 kJ/kg| \\\\ \\hline\n",
       "    Sigma & \\verb|475.811 kJ/kg | & \\verb|-0.000 kJ/kg  | & \\verb|475.811 kJ/kg | \\\\ \\hline\n",
       "\\end{array}\n",
       "\n"
      ],
      "text/plain": [
       "<IPython.core.display.Latex object>"
      ]
     },
     "execution_count": 23,
     "metadata": {},
     "output_type": "execute_result"
    }
   ],
   "source": [
    "c.print_closed()"
   ]
  },
  {
   "cell_type": "code",
   "execution_count": 24,
   "metadata": {},
   "outputs": [
    {
     "data": {
      "text/latex": [
       "\\begin{array}{l | l | l | l | l | l} \\hline\n",
       "    \\verb|     | & \\verb|      q       | & \\verb|   Delta h    | & \\verb|     w_t      | & \\verb|Delta e_{kin}| & \\verb|Delta e_{pot}| \\\\ \\hline\n",
       "    \\hline\n",
       "    \\verb|0-1  | & \\verb|0.000 kJ/kg   | & \\verb|269.824 kJ/kg | & \\verb|-269.823 kJ/kg| & \\verb|-0.001 kJ/kg | & \\verb|0.000 kJ/kg  | \\\\ \\hline\n",
       "    \\verb|1-2  | & \\verb|986.480 kJ/kg | & \\verb|986.480 kJ/kg | & \\verb|-0.040 kJ/kg  | & \\verb|0.040 kJ/kg  | & \\verb|0.000 kJ/kg  | \\\\ \\hline\n",
       "    \\verb|2-3  | & \\verb|0.000 kJ/kg   | & \\verb|-745.635 kJ/kg| & \\verb|745.665 kJ/kg | & \\verb|-0.030 kJ/kg | & \\verb|0.000 kJ/kg  | \\\\ \\hline\n",
       "    \\verb|3-0  | & \\verb|-510.669 kJ/kg| & \\verb|-510.669 kJ/kg| & \\verb|0.009 kJ/kg   | & \\verb|-0.009 kJ/kg | & \\verb|0.000 kJ/kg  | \\\\ \\hline\n",
       "    Sigma & \\verb|475.811 kJ/kg | & \\verb|0.000 kJ/kg   | & \\verb|475.811 kJ/kg | & \\verb|-0.000 kJ/kg | & \\verb|0.000 kJ/kg  | \\\\ \\hline\n",
       "\\end{array}\n",
       "\n"
      ],
      "text/plain": [
       "<IPython.core.display.Latex object>"
      ]
     },
     "execution_count": 24,
     "metadata": {},
     "output_type": "execute_result"
    }
   ],
   "source": [
    "c.print_open()"
   ]
  }
 ],
 "metadata": {
  "kernelspec": {
   "display_name": "Python 3",
   "language": "python",
   "name": "python3"
  },
  "language_info": {
   "codemirror_mode": {
    "name": "ipython",
    "version": 3
   },
   "file_extension": ".py",
   "mimetype": "text/x-python",
   "name": "python",
   "nbconvert_exporter": "python",
   "pygments_lexer": "ipython3",
   "version": "3.6.3"
  }
 },
 "nbformat": 4,
 "nbformat_minor": 1
}
