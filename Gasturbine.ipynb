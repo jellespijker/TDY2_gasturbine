{
 "cells": [
  {
   "cell_type": "markdown",
   "metadata": {
    "collapsed": true
   },
   "source": [
    "# Alternatieve Toets TDY2\n",
    "Calculationsheet for a gasturbine  \n",
    "\n",
    "_note_: The cell below are needed to import libraries and set global settings, used in this sheet"
   ]
  },
  {
   "cell_type": "code",
   "execution_count": 1,
   "metadata": {},
   "outputs": [],
   "source": [
    "%matplotlib notebook\n",
    "%precision 3\n",
    "from IPython.display import Latex\n",
    "from math import nan\n",
    "import matplotlib.pyplot as plt\n",
    "from GasTurbine import *"
   ]
  },
  {
   "cell_type": "markdown",
   "metadata": {},
   "source": [
    "# Decription of the system\n",
    "## States\n",
    "The following states are identified:  \n",
    "0. Air at atmospheric conditions $ P_0 = P_{atm} $, $ T_0 = T_{atm} $ and $ v_0 = v_{atm} $\n",
    "1. Compressed air $ P_1 >> P_0 $, $ T_1 > T_0 $ and $ v_1 << v_0 $\n",
    "2. Heated air $ P_2 = P_1 $, $ T_2 >> T_1 $ and $ v_2 > v_1 $\n",
    "3. Heated air at atmospheric pressure $ P_3 = P_0 = P_{atm} $, $ T_3 < T_2 $\n",
    "\n",
    "## Transitions\n",
    "The system transitions are identified as follows:  \n",
    "0 -> 1 **Isentropic compression** were air is sucked into a compressor.  \n",
    "1 -> 2 **Isobaric heating** where air is heated in a combustion chamber.  \n",
    "2 -> 3 **Isentropic expansion** where air is expanded till atmospheric pressure.  \n",
    "3 -> 0 **Isobaric cooling** A fictive step where the air is cooled to atmorspheric conditions.  \n",
    "\n",
    "# Know values"
   ]
  },
  {
   "cell_type": "code",
   "execution_count": 2,
   "metadata": {},
   "outputs": [],
   "source": [
    "P_atm = 1.013 * u.bar\n",
    "T_atm = (15. * u.degC).to(u.K)\n",
    "cycle = Cycle()\n",
    "cycle.c_p = 1005. * u.J / (u.kg * u.K)\n",
    "cycle.c_v = 716. * u.J / (u.kg * u.K)\n",
    "cycle.Q_in = 2000 * u.kW"
   ]
  },
  {
   "cell_type": "code",
   "execution_count": 3,
   "metadata": {},
   "outputs": [],
   "source": [
    "states = States(4)\n",
    "states[0].P = P_atm\n",
    "states[0].T = T_atm\n",
    "states[0].A = 1. * u.m ** 2\n",
    "states[0].V_flux = 6000. * u.m ** 3 / u.hr\n",
    "states[1].P = 10. * u.bar\n",
    "states[1].A = 0.5 * u.m ** 2\n",
    "states[2].A = 0.1 * u.m ** 2\n",
    "states[2].P = states[1].P\n",
    "states[3].A = 1. * u.m ** 2\n",
    "states[3].P = states[0].P"
   ]
  },
  {
   "cell_type": "code",
   "execution_count": 4,
   "metadata": {},
   "outputs": [],
   "source": [
    "cycle.transitions = states\n",
    "cycle.transitions[0].processtype = ProcessType.ISENTROPIC\n",
    "cycle.transitions[1].processtype = ProcessType.ISOBARIC\n",
    "cycle.transitions[2].processtype = ProcessType.ISENTROPIC\n",
    "cycle.transitions[3].processtype = ProcessType.ISOBARIC"
   ]
  },
  {
   "cell_type": "markdown",
   "metadata": {},
   "source": [
    "# Calculate of system constants\n",
    "\\begin{equation}\n",
    "    \\frac{P_0 \\dot{V_0}}{T_0} = \\dot{m} R \\rightarrow \\dot{m} = \\frac{P_0 \\dot{V_0}}{R T_0}\n",
    "\\end{equation}\n",
    "\\begin{equation}\n",
    "    R = c_p - c_v\n",
    "\\end{equation}\n",
    "\\begin{equation}\n",
    "    k = \\frac{c_p}{c_p}\n",
    "\\end{equation}"
   ]
  },
  {
   "cell_type": "code",
   "execution_count": 5,
   "metadata": {},
   "outputs": [
    {
     "data": {
      "text/latex": [
       "$ 2.89e+02\\ \\frac{\\mathrm{J}}{\\left(\\mathrm{K} \\cdot \\mathrm{kg}\\right)} $"
      ],
      "text/plain": [
       "<IPython.core.display.Latex object>"
      ]
     },
     "execution_count": 5,
     "metadata": {},
     "output_type": "execute_result"
    }
   ],
   "source": [
    "latex(cycle.R)"
   ]
  },
  {
   "cell_type": "code",
   "execution_count": 6,
   "metadata": {},
   "outputs": [
    {
     "data": {
      "text/latex": [
       "$ 1.4\\ $"
      ],
      "text/plain": [
       "<IPython.core.display.Latex object>"
      ]
     },
     "execution_count": 6,
     "metadata": {},
     "output_type": "execute_result"
    }
   ],
   "source": [
    "latex(cycle.k)"
   ]
  },
  {
   "cell_type": "code",
   "execution_count": 7,
   "metadata": {},
   "outputs": [
    {
     "data": {
      "text/latex": [
       "$ 2.03\\ \\frac{\\mathrm{kg}}{\\mathrm{s}} $"
      ],
      "text/plain": [
       "<IPython.core.display.Latex object>"
      ]
     },
     "execution_count": 7,
     "metadata": {},
     "output_type": "execute_result"
    }
   ],
   "source": [
    "cycle.m_flux = mass_flux(states[0].P, states[0].V_flux, cycle.R, states[0].T)\n",
    "latex(cycle.m_flux)"
   ]
  },
  {
   "cell_type": "markdown",
   "metadata": {},
   "source": [
    "# Calculate Transitions and States\n",
    "## State 0\n",
    "\\begin{equation}\n",
    "    \\rho_0 = \\frac{P_0}{T_0 R}\n",
    "    \\begin{cases}\n",
    "        \\frac{P_0 v_0}{T_0} = \\dot{m} R \\\\\n",
    "        \\rho_0 = \\frac{\\dot{m}}{v_0}\n",
    "    \\end{cases}\n",
    "\\end{equation}\n",
    "\\begin{equation}\n",
    "    v_0 = \\frac{\\dot{V_0}}{\\dot{m}}\n",
    "\\end{equation}\n",
    "\\begin{equation}\n",
    "    c_0 A_0 \\rho_0 = \\dot{m} \\rightarrow c_0 = \\frac{\\dot{m}}{\\rho_0 A_0}\n",
    "\\end{equation}\n"
   ]
  },
  {
   "cell_type": "code",
   "execution_count": 8,
   "metadata": {},
   "outputs": [
    {
     "data": {
      "text/latex": [
       "$ State: 0 \\\\P: 1.01e+05\\ \\mathrm{Pa} \\\\T: 2.88e+02\\ \\mathrm{K} \\\\v: 0.822\\ \\frac{\\mathrm{m}^{3}}{\\mathrm{kg}} \\\\\\dot{V}: 1.67\\ \\frac{\\mathrm{m}^{3}}{\\mathrm{s}}\\\\\\rho: 1.22\\ \\frac{\\mathrm{kg}}{\\mathrm{m}^{3}} \\\\c: 1.67\\ \\frac{\\mathrm{m}}{\\mathrm{s}} $"
      ],
      "text/plain": [
       "<IPython.core.display.Latex object>"
      ]
     },
     "execution_count": 8,
     "metadata": {},
     "output_type": "execute_result"
    }
   ],
   "source": [
    "states[0].rho = density(states[0].P, cycle.R, states[0].T)\n",
    "states[0].v = specific_volume(cycle.m_flux, states[0].V_flux)\n",
    "states[0].c = speed(cycle.m_flux, states[0].rho, states[0].A)\n",
    "latex(states[0])"
   ]
  },
  {
   "cell_type": "markdown",
   "metadata": {},
   "source": [
    "## State 1\n",
    "Where $ \\rho_1 $, $ c_1 $ and $ v_1 $ are determined with the previous given formula.\n",
    "\\begin{equation}\n",
    "    \\frac{T_0^k}{P_0^{k-1}} = \\frac{T_1^k}{P_1^{k-1}} \\rightarrow T_1 = \\left(\\left(\\frac{P_1}{P_0}\\right)^{k-1}T_0^k\\right)^{\\frac{1}{k}}\n",
    "\\end{equation}\n",
    "\\begin{equation}\n",
    "    \\dot{V}_1 = \\frac{\\rho_0}{\\rho_1} \\dot{V}_0\n",
    "\\end{equation}\n",
    "\\begin{equation}\n",
    "    p_0 V_0^k = p_1 V_1^k \\rightarrow v_1 = \\left(\\frac{P_0}{P_1}v_0^k\\right)^{\\frac{1}{k}}\n",
    "\\end{equation}"
   ]
  },
  {
   "cell_type": "code",
   "execution_count": 9,
   "metadata": {},
   "outputs": [
    {
     "data": {
      "text/latex": [
       "$ State: 1 \\\\P: 1e+06\\ \\mathrm{Pa} \\\\T: 5.57e+02\\ \\mathrm{K} \\\\v: 0.161\\ \\frac{\\mathrm{m}^{3}}{\\mathrm{kg}} \\\\\\dot{V}: 0.326\\ \\frac{\\mathrm{m}^{3}}{\\mathrm{s}}\\\\\\rho: 6.22\\ \\frac{\\mathrm{kg}}{\\mathrm{m}^{3}} \\\\c: 0.652\\ \\frac{\\mathrm{m}}{\\mathrm{s}} $"
      ],
      "text/plain": [
       "<IPython.core.display.Latex object>"
      ]
     },
     "execution_count": 9,
     "metadata": {},
     "output_type": "execute_result"
    }
   ],
   "source": [
    "states[1].T = isentropische_dT(states[0].T, states[0].P, states[1].P, cycle.k)\n",
    "states[1].rho = density(states[1].P, cycle.R, states[1].T)\n",
    "states[1].c = speed(cycle.m_flux, states[1].rho, states[1].A)\n",
    "states[1].V_flux = V_flux(states[0].rho, states[1].rho, states[0].V_flux)\n",
    "states[1].v = specific_volume(cycle.m_flux, states[1].V_flux)\n",
    "latex(states[1])"
   ]
  },
  {
   "cell_type": "markdown",
   "metadata": {},
   "source": [
    "## Transition 0 to 1\n",
    "The transition from **state 0** to **state 1** is an isentropic process where work needs to be put into the system and no heat is transfered.\n",
    "\\begin{equation}\n",
    "    w_{0-1} = \\frac{k}{k-1}\\left(P_1 v_1 - P_0 v_0\\right)\n",
    "\\end{equation}\n",
    "\\begin{equation}\n",
    "    q_{0-1} = 0.\n",
    "\\end{equation}\n",
    "\\begin{equation}\n",
    "    \\Delta u = q_{0-1} - w_{0-1}\n",
    "\\end{equation}\n",
    "\\begin{equation}\n",
    "    n = k\n",
    "\\end{equation}\n",
    "\\begin{equation}\n",
    "    w_{t,0-1} = \\frac{-n}{n-1} (P_1 v_1 - P_0 v_0)\n",
    "\\end{equation}\n",
    "\\begin{equation}\n",
    "    \\Delta e_{kin} = \\frac{1}{2}(c_1^2 - c_0^2)\n",
    "\\end{equation}\n",
    "\\begin{equation}\n",
    "    \\Delta h_{0-1} = q_{0-1} - w_{t,0-1} - \\Delta e_{kin}\n",
    "\\end{equation}"
   ]
  },
  {
   "cell_type": "code",
   "execution_count": 10,
   "metadata": {},
   "outputs": [
    {
     "data": {
      "text/latex": [
       "$ Transition: 0-1 \\\\q_{0-1}: 0.0\\ \\frac{\\mathrm{kJ}}{\\mathrm{kg}} \\\\w_{0-1}: -1.92e+02\\ \\frac{\\mathrm{kJ}}{\\mathrm{kg}} \\\\w_{t,0-1}: -2.7e+02\\ \\frac{\\mathrm{kJ}}{\\mathrm{kg}} \\\\\\Delta u_{0-1}: 1.92e+02\\ \\frac{\\mathrm{kJ}}{\\mathrm{kg}}\\\\\\Delta e_{0-1,kin}: -0.00118\\ \\frac{\\mathrm{kJ}}{\\mathrm{kg}} \\\\\\Delta e_{0-1,pot}: 0.0\\ \\frac{\\mathrm{kJ}}{\\mathrm{kg}} \\\\\\Delta h_{0-1}: 2.7e+02\\ \\frac{\\mathrm{kJ}}{\\mathrm{kg}} $"
      ],
      "text/plain": [
       "<IPython.core.display.Latex object>"
      ]
     },
     "execution_count": 10,
     "metadata": {},
     "output_type": "execute_result"
    }
   ],
   "source": [
    "cycle.transitions[0].processtype = ProcessType.ISENTROPIC\n",
    "cycle.transitions[0].q = 0. * u.kJ / u.kg\n",
    "cycle.transitions[0].w = isentropisch_work(states[0].P, states[0].v, states[1].P, states[1].v, cycle.k)\n",
    "cycle.transitions[0].du = delta_u(cycle.transitions[0].q, cycle.transitions[0].w)\n",
    "cycle.transitions[0].w_t = technical_work(states[0].P, states[0].v, states[1].P, states[1].v, cycle.k)\n",
    "cycle.transitions[0].de_kin = delta_e_kin(states[0].c, states[1].c)\n",
    "cycle.transitions[0].dh = delta_h(cycle.transitions[0].q, cycle.transitions[0].w_t, cycle.transitions[0].de_kin)\n",
    "latex(cycle.transitions[0])"
   ]
  },
  {
   "cell_type": "markdown",
   "metadata": {},
   "source": [
    "## State 2\n",
    "State 2 can best be calculated by first determining the heat and work transfer in transition 1 -> 2. Since the amount of heating energy $ Q_{in} $ is known. The transition from **state 1** to **state 2** is an isobaric heating process. Where heat is put into the system which is kept at an constant pressure.\n",
    "\\begin{equation}\n",
    "    q_{1-2} = \\frac{Q_{in}}{\\dot{m}}\n",
    "\\end{equation}\n",
    "\\begin{equation}\n",
    "    w_{1-2} = \\frac{q_{1-2}}{\\frac{k}{k-1}}\n",
    "    \\begin{cases}\n",
    "        q_{1-2} = \\frac{k}{k-1} P(v_2 - v_1) \\\\\n",
    "        w_{1-2} = P(v_2 - v_1)\n",
    "    \\end{cases}\n",
    "\\end{equation}\n",
    "\n"
   ]
  },
  {
   "cell_type": "code",
   "execution_count": 11,
   "metadata": {},
   "outputs": [],
   "source": [
    "cycle.transitions[1].processtype = ProcessType.ISENTROPIC\n",
    "cycle.transitions[1].q = isobaar_heat(Q_in=cycle.Q_in, m_flux=cycle.m_flux)\n",
    "cycle.transitions[1].w = isobaar_work(k=cycle.k, q=cycle.transitions[1].q)\n",
    "cycle.transitions[1].du = delta_u(cycle.transitions[1].q, cycle.transitions[1].w)"
   ]
  },
  {
   "cell_type": "markdown",
   "metadata": {},
   "source": [
    "From here **state 2** can be calculated, where $ \\rho_2 $, $ v_2 $, $ c_2 $ and $ \\dot{V}_2 $ are calculated using earlier provided formulas.\n",
    "\\begin{equation}\n",
    "    q_{1-2} = c_p(T_2-T_1) \\rightarrow T_2 = \\frac{q_{1-2}}{c_p} + T_1\n",
    "\\end{equation}"
   ]
  },
  {
   "cell_type": "code",
   "execution_count": 12,
   "metadata": {},
   "outputs": [
    {
     "data": {
      "text/latex": [
       "$ State: 2 \\\\P: 1e+06\\ \\mathrm{Pa} \\\\T: 9.82e+02\\ \\mathrm{K} \\\\v: 0.284\\ \\frac{\\mathrm{m}^{3}}{\\mathrm{kg}} \\\\\\dot{V}: 0.575\\ \\frac{\\mathrm{m}^{3}}{\\mathrm{s}}\\\\\\rho: 3.53\\ \\frac{\\mathrm{kg}}{\\mathrm{m}^{3}} \\\\c: 5.75\\ \\frac{\\mathrm{m}}{\\mathrm{s}} $"
      ],
      "text/plain": [
       "<IPython.core.display.Latex object>"
      ]
     },
     "execution_count": 12,
     "metadata": {},
     "output_type": "execute_result"
    }
   ],
   "source": [
    "states[2].T = isobaar_dT(cycle.transitions[1].q, cycle.c_p, states[2].T)\n",
    "states[2].rho = density(states[2].P, cycle.R, states[2].T)\n",
    "states[2].c = speed(cycle.m_flux, states[2].rho, states[2].A)\n",
    "states[2].V_flux = V_flux(states[1].rho, states[2].rho, states[1].V_flux)\n",
    "states[2].v = specific_volume(cycle.m_flux, states[2].V_flux)\n",
    "latex(states[2])"
   ]
  },
  {
   "cell_type": "markdown",
   "metadata": {},
   "source": [
    "## Transition 1 to 2\n",
    "From here the transition can be calculated further, using earlier given formulas, where \n",
    "\\begin{equation}\n",
    "    n = 0\n",
    "\\end{equation}"
   ]
  },
  {
   "cell_type": "code",
   "execution_count": 13,
   "metadata": {},
   "outputs": [
    {
     "data": {
      "text/latex": [
       "$ Transition: 1-2 \\\\q_{1-2}: 9.86e+02\\ \\frac{\\mathrm{kJ}}{\\mathrm{kg}} \\\\w_{1-2}: 2.84e+02\\ \\frac{\\mathrm{kJ}}{\\mathrm{kg}} \\\\w_{t,1-2}: -4.27e+02\\ \\frac{\\mathrm{kJ}}{\\mathrm{kg}} \\\\\\Delta u_{1-2}: 7.03e+02\\ \\frac{\\mathrm{kJ}}{\\mathrm{kg}}\\\\\\Delta e_{1-2,kin}: 0.0163\\ \\frac{\\mathrm{kJ}}{\\mathrm{kg}} \\\\\\Delta e_{1-2,pot}: 0.0\\ \\frac{\\mathrm{kJ}}{\\mathrm{kg}} \\\\\\Delta h_{1-2}: 1.41e+03\\ \\frac{\\mathrm{kJ}}{\\mathrm{kg}} $"
      ],
      "text/plain": [
       "<IPython.core.display.Latex object>"
      ]
     },
     "execution_count": 13,
     "metadata": {},
     "output_type": "execute_result"
    }
   ],
   "source": [
    "cycle.transitions[1].w_t = technical_work(states[1].P, states[1].v, states[2].P, states[2].v, cycle.k)\n",
    "cycle.transitions[1].de_kin = delta_e_kin(states[1].c, states[2].c)\n",
    "cycle.transitions[1].dh = delta_h(cycle.transitions[1].q, cycle.transitions[1].w_t, cycle.transitions[1].de_kin)\n",
    "latex(cycle.transitions[1])"
   ]
  },
  {
   "cell_type": "markdown",
   "metadata": {},
   "source": [
    "## State 3\n"
   ]
  },
  {
   "cell_type": "code",
   "execution_count": 15,
   "metadata": {},
   "outputs": [
    {
     "data": {
      "text/latex": [
       "$ State: 3 \\\\P: 1.01e+05\\ \\mathrm{Pa} \\\\T: 5.08e+02\\ \\mathrm{K} \\\\v: 1.45\\ \\frac{\\mathrm{m}^{3}}{\\mathrm{kg}} \\\\\\dot{V}: 2.94\\ \\frac{\\mathrm{m}^{3}}{\\mathrm{s}}\\\\\\rho: 0.69\\ \\frac{\\mathrm{kg}}{\\mathrm{m}^{3}} \\\\c: 29.4\\ \\frac{\\mathrm{m}}{\\mathrm{s}} $"
      ],
      "text/plain": [
       "<IPython.core.display.Latex object>"
      ]
     },
     "execution_count": 15,
     "metadata": {},
     "output_type": "execute_result"
    }
   ],
   "source": [
    "states[3].T = isentropische_dT(states[2].T, states[2].P, states[3].P, cycle.k)\n",
    "states[3].rho = density(states[3].P, cycle.R, states[3].T)\n",
    "states[3].c = speed(cycle.m_flux, states[3].rho, states[2].A)\n",
    "states[3].V_flux = V_flux(states[2].rho, states[3].rho, states[2].V_flux)\n",
    "states[3].v = specific_volume(cycle.m_flux, states[3].V_flux)\n",
    "latex(states[3])"
   ]
  },
  {
   "cell_type": "markdown",
   "metadata": {},
   "source": [
    "## Transition 2 to 3\n"
   ]
  },
  {
   "cell_type": "code",
   "execution_count": 17,
   "metadata": {},
   "outputs": [
    {
     "data": {
      "text/latex": [
       "$ Transition: 2-3 \\\\q_{2-3}: 0.0\\ \\frac{\\mathrm{kJ}}{\\mathrm{kg}} \\\\w_{2-3}: 3.39e+02\\ \\frac{\\mathrm{kJ}}{\\mathrm{kg}} \\\\w_{t,2-3}: 4.76e+02\\ \\frac{\\mathrm{kJ}}{\\mathrm{kg}} \\\\\\Delta u_{2-3}: -3.39e+02\\ \\frac{\\mathrm{kJ}}{\\mathrm{kg}}\\\\\\Delta e_{2-3,kin}: 0.415\\ \\frac{\\mathrm{kJ}}{\\mathrm{kg}} \\\\\\Delta e_{2-3,pot}: 0.0\\ \\frac{\\mathrm{kJ}}{\\mathrm{kg}} \\\\\\Delta h_{2-3}: -4.76e+02\\ \\frac{\\mathrm{kJ}}{\\mathrm{kg}} $"
      ],
      "text/plain": [
       "<IPython.core.display.Latex object>"
      ]
     },
     "execution_count": 17,
     "metadata": {},
     "output_type": "execute_result"
    }
   ],
   "source": [
    "cycle.transitions[2].processtype = ProcessType.ISENTROPIC\n",
    "cycle.transitions[2].q = 0. * u.kJ / u.kg\n",
    "cycle.transitions[2].w = isentropisch_work(states[2].P, states[2].v, states[3].P, states[3].v, cycle.k)\n",
    "cycle.transitions[2].du = delta_u(cycle.transitions[2].q, cycle.transitions[2].w)\n",
    "cycle.transitions[2].w_t = technical_work(states[2].P, states[2].v, states[3].P, states[3].v, cycle.k)\n",
    "cycle.transitions[2].de_kin = delta_e_kin(states[2].c, states[3].c)\n",
    "cycle.transitions[2].dh = delta_h(cycle.transitions[2].q, cycle.transitions[2].w_t, cycle.transitions[2].de_kin)\n",
    "latex(cycle.transitions[2])"
   ]
  },
  {
   "cell_type": "markdown",
   "metadata": {},
   "source": [
    "## Transition 3 to 0"
   ]
  },
  {
   "cell_type": "code",
   "execution_count": 19,
   "metadata": {},
   "outputs": [
    {
     "data": {
      "text/latex": [
       "$ Transition: 3-0 \\\\q_{3-0}: -2.21e+02\\ \\frac{\\mathrm{kJ}}{\\mathrm{kg}} \\\\w_{3-0}: -63.6\\ \\frac{\\mathrm{kJ}}{\\mathrm{kg}} \\\\w_{t,3-0}: 2.21e+02\\ \\frac{\\mathrm{kJ}}{\\mathrm{kg}} \\\\\\Delta u_{3-0}: -1.58e+02\\ \\frac{\\mathrm{kJ}}{\\mathrm{kg}}\\\\\\Delta e_{3-0,kin}: -0.431\\ \\frac{\\mathrm{kJ}}{\\mathrm{kg}} \\\\\\Delta e_{3-0,pot}: 0.0\\ \\frac{\\mathrm{kJ}}{\\mathrm{kg}} \\\\\\Delta h_{3-0}: -4.42e+02\\ \\frac{\\mathrm{kJ}}{\\mathrm{kg}} $"
      ],
      "text/plain": [
       "<IPython.core.display.Latex object>"
      ]
     },
     "execution_count": 19,
     "metadata": {},
     "output_type": "execute_result"
    }
   ],
   "source": [
    "cycle.transitions[3].processtype = ProcessType.ISOBARIC\n",
    "cycle.transitions[3].q = isobaar_heat(c_p=cycle.c_p, T_s=states[3].T, T_e=states[0].T)\n",
    "cycle.transitions[3].w = isobaar_work(R=cycle.R, T_s=states[3].T, T_e=states[0].T)\n",
    "cycle.transitions[3].du = delta_u(cycle.transitions[3].q, cycle.transitions[3].w)\n",
    "cycle.transitions[3].w_t = technical_work(states[3].P, states[3].v, states[0].P, states[0].v, cycle.k)\n",
    "cycle.transitions[3].de_kin = delta_e_kin(states[3].c, states[0].c)\n",
    "cycle.transitions[3].dh = delta_h(cycle.transitions[3].q, cycle.transitions[3].w_t, cycle.transitions[3].de_kin)\n",
    "latex(cycle.transitions[3])"
   ]
  },
  {
   "cell_type": "code",
   "execution_count": 21,
   "metadata": {},
   "outputs": [
    {
     "data": {
      "text/html": [
       "765.4021247128735 kilojoule/kilogram"
      ],
      "text/latex": [
       "$765.4021247128735\\ \\frac{\\mathrm{kilojoule}}{\\mathrm{kilogram}}$"
      ],
      "text/plain": [
       "<Quantity(765.4021247128735, 'kilojoule / kilogram')>"
      ]
     },
     "execution_count": 21,
     "metadata": {},
     "output_type": "execute_result"
    }
   ],
   "source": [
    "sum([t.q for t in cycle.transitions])"
   ]
  },
  {
   "cell_type": "code",
   "execution_count": 22,
   "metadata": {},
   "outputs": [
    {
     "data": {
      "text/html": [
       "366.85399916825656 kilojoule/kilogram"
      ],
      "text/latex": [
       "$366.85399916825656\\ \\frac{\\mathrm{kilojoule}}{\\mathrm{kilogram}}$"
      ],
      "text/plain": [
       "<Quantity(366.85399916825656, 'kilojoule / kilogram')>"
      ]
     },
     "execution_count": 22,
     "metadata": {},
     "output_type": "execute_result"
    }
   ],
   "source": [
    "sum([t.w for t in cycle.transitions])"
   ]
  },
  {
   "cell_type": "code",
   "execution_count": null,
   "metadata": {},
   "outputs": [],
   "source": []
  }
 ],
 "metadata": {
  "kernelspec": {
   "display_name": "Python 3",
   "language": "python",
   "name": "python3"
  },
  "language_info": {
   "codemirror_mode": {
    "name": "ipython",
    "version": 3
   },
   "file_extension": ".py",
   "mimetype": "text/x-python",
   "name": "python",
   "nbconvert_exporter": "python",
   "pygments_lexer": "ipython3",
   "version": "3.6.3"
  }
 },
 "nbformat": 4,
 "nbformat_minor": 1
}
